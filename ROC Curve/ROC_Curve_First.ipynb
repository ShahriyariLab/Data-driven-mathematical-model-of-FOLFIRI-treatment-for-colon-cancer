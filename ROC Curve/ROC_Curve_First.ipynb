{
 "cells": [
  {
   "cell_type": "code",
   "execution_count": 5,
   "metadata": {},
   "outputs": [
    {
     "name": "stdout",
     "output_type": "stream",
     "text": [
      "(31, 1)\n"
     ]
    },
    {
     "data": {
      "text/html": [
       "<div>\n",
       "<style scoped>\n",
       "    .dataframe tbody tr th:only-of-type {\n",
       "        vertical-align: middle;\n",
       "    }\n",
       "\n",
       "    .dataframe tbody tr th {\n",
       "        vertical-align: top;\n",
       "    }\n",
       "\n",
       "    .dataframe thead th {\n",
       "        text-align: right;\n",
       "    }\n",
       "</style>\n",
       "<table border=\"1\" class=\"dataframe\">\n",
       "  <thead>\n",
       "    <tr style=\"text-align: right;\">\n",
       "      <th></th>\n",
       "      <th>Predicted_C</th>\n",
       "    </tr>\n",
       "  </thead>\n",
       "  <tbody>\n",
       "    <tr>\n",
       "      <th>TCGA-A6-2682</th>\n",
       "      <td>0.940249</td>\n",
       "    </tr>\n",
       "    <tr>\n",
       "      <th>TCGA-A6-5657</th>\n",
       "      <td>0.550147</td>\n",
       "    </tr>\n",
       "    <tr>\n",
       "      <th>TCGA-A6-5660</th>\n",
       "      <td>0.645662</td>\n",
       "    </tr>\n",
       "    <tr>\n",
       "      <th>TCGA-A6-5662</th>\n",
       "      <td>0.299556</td>\n",
       "    </tr>\n",
       "    <tr>\n",
       "      <th>TCGA-A6-5664</th>\n",
       "      <td>0.623782</td>\n",
       "    </tr>\n",
       "  </tbody>\n",
       "</table>\n",
       "</div>"
      ],
      "text/plain": [
       "             Predicted_C\n",
       "TCGA-A6-2682    0.940249\n",
       "TCGA-A6-5657    0.550147\n",
       "TCGA-A6-5660    0.645662\n",
       "TCGA-A6-5662    0.299556\n",
       "TCGA-A6-5664    0.623782"
      ]
     },
     "execution_count": 5,
     "metadata": {},
     "output_type": "execute_result"
    }
   ],
   "source": [
    "import pandas as pd\n",
    "import numpy as np\n",
    "import matplotlib.pyplot as plt\n",
    "from numpy import trapz\n",
    "patient_ID=['TCGA-A6-2682', 'TCGA-A6-5657', 'TCGA-A6-5660', 'TCGA-A6-5662',\n",
    "       'TCGA-A6-5664', 'TCGA-A6-5667', 'TCGA-A6-6137', 'TCGA-A6-6140',\n",
    "       'TCGA-A6-6141', 'TCGA-A6-6142', 'TCGA-A6-6648', 'TCGA-A6-6649',\n",
    "       'TCGA-A6-6651', 'TCGA-A6-6654', 'TCGA-A6-6781', 'TCGA-AY-5543',\n",
    "       'TCGA-AY-6386', 'TCGA-CK-4947', 'TCGA-CM-4747', 'TCGA-CM-4751',\n",
    "       'TCGA-CM-5344', 'TCGA-CM-5860', 'TCGA-CM-5863', 'TCGA-CM-5868',\n",
    "       'TCGA-CM-6162', 'TCGA-CM-6169', 'TCGA-CM-6172', 'TCGA-CM-6675',\n",
    "       'TCGA-G4-6297', 'TCGA-G4-6303', 'TCGA-G4-6307', 'TCGA-G4-6311',\n",
    "       'TCGA-G4-6314', 'TCGA-G4-6317', 'TCGA-G4-6320', 'TCGA-G4-6321',\n",
    "       'TCGA-G4-6322']\n",
    "\n",
    "last_follow=pd.read_csv('validation_data/data_with_FIRST_end_day.csv')\n",
    "last_follow.set_index('Unnamed: 0',inplace=True)\n",
    "\n",
    "a=[]\n",
    "#check if patients last follow up day is bigger than end treatment day:\n",
    "for patient in patient_ID:\n",
    "    if last_follow.last_day_model.loc[patient]>last_follow.model_end_drug.loc[patient]:\n",
    "        a.append(patient)\n",
    "result_C=pd.DataFrame(columns=['Predicted_C'], index=a)\n",
    "for p in a:\n",
    "    data=pd.read_csv('validation_data/'+p+'dat.csv')\n",
    "    end_day=last_follow.last_day_model.loc[p]\n",
    "    result_C.loc[p]=[np.array(data.loc[data.time==end_day,'Cancer'])[0]]\n",
    "\n",
    "print(result_C.shape)\n",
    "result_C.head()"
   ]
  },
  {
   "cell_type": "code",
   "execution_count": 6,
   "metadata": {},
   "outputs": [
    {
     "data": {
      "text/html": [
       "<div>\n",
       "<style scoped>\n",
       "    .dataframe tbody tr th:only-of-type {\n",
       "        vertical-align: middle;\n",
       "    }\n",
       "\n",
       "    .dataframe tbody tr th {\n",
       "        vertical-align: top;\n",
       "    }\n",
       "\n",
       "    .dataframe thead th {\n",
       "        text-align: right;\n",
       "    }\n",
       "</style>\n",
       "<table border=\"1\" class=\"dataframe\">\n",
       "  <thead>\n",
       "    <tr style=\"text-align: right;\">\n",
       "      <th></th>\n",
       "      <th>Predicted_C</th>\n",
       "      <th>tumor_status</th>\n",
       "    </tr>\n",
       "  </thead>\n",
       "  <tbody>\n",
       "    <tr>\n",
       "      <th>TCGA-A6-2682</th>\n",
       "      <td>0.940249</td>\n",
       "      <td>1</td>\n",
       "    </tr>\n",
       "    <tr>\n",
       "      <th>TCGA-A6-5657</th>\n",
       "      <td>0.550147</td>\n",
       "      <td>0</td>\n",
       "    </tr>\n",
       "    <tr>\n",
       "      <th>TCGA-A6-5660</th>\n",
       "      <td>0.645662</td>\n",
       "      <td>0</td>\n",
       "    </tr>\n",
       "    <tr>\n",
       "      <th>TCGA-A6-5662</th>\n",
       "      <td>0.299556</td>\n",
       "      <td>1</td>\n",
       "    </tr>\n",
       "    <tr>\n",
       "      <th>TCGA-A6-5664</th>\n",
       "      <td>0.623782</td>\n",
       "      <td>1</td>\n",
       "    </tr>\n",
       "  </tbody>\n",
       "</table>\n",
       "</div>"
      ],
      "text/plain": [
       "             Predicted_C  tumor_status\n",
       "TCGA-A6-2682    0.940249             1\n",
       "TCGA-A6-5657    0.550147             0\n",
       "TCGA-A6-5660    0.645662             0\n",
       "TCGA-A6-5662    0.299556             1\n",
       "TCGA-A6-5664    0.623782             1"
      ]
     },
     "execution_count": 6,
     "metadata": {},
     "output_type": "execute_result"
    }
   ],
   "source": [
    "result_C['tumor_status']=last_follow['tumor_status']\n",
    "dic={'TUMOR FREE':0,'WITH TUMOR':1}\n",
    "result_C['tumor_status']=result_C['tumor_status'].map(dic) \n",
    "result_C.head()"
   ]
  },
  {
   "cell_type": "code",
   "execution_count": 7,
   "metadata": {},
   "outputs": [
    {
     "data": {
      "text/plain": [
       "3.409835425859007e-12"
      ]
     },
     "execution_count": 7,
     "metadata": {},
     "output_type": "execute_result"
    }
   ],
   "source": [
    "\n",
    "result_C['Predicted_C'].min()"
   ]
  },
  {
   "cell_type": "code",
   "execution_count": 8,
   "metadata": {},
   "outputs": [
    {
     "data": {
      "text/plain": [
       "0.9988251857484554"
      ]
     },
     "execution_count": 8,
     "metadata": {},
     "output_type": "execute_result"
    }
   ],
   "source": [
    "result_C['Predicted_C'].max()"
   ]
  },
  {
   "cell_type": "code",
   "execution_count": 9,
   "metadata": {},
   "outputs": [],
   "source": [
    "\n",
    "df = result_C[['tumor_status','Predicted_C']]\n",
    "thresholds = list(np.array(list(range(1, 990, 1)))/1000)\n",
    "roc_point = []\n",
    "for threshold in thresholds:\n",
    "\n",
    "    tp = 0; fp = 0; fn = 0; tn = 0\n",
    "\n",
    "    for index, instance in df.iterrows():\n",
    "        actual = instance[\"tumor_status\"]\n",
    "        prediction = instance[\"Predicted_C\"]\n",
    "\n",
    "        if prediction >= threshold:\n",
    "            prediction_class = 1\n",
    "        else:\n",
    "            prediction_class = 0\n",
    "\n",
    "        if prediction_class == 1 and actual == 1:\n",
    "            tp = tp + 1\n",
    "        elif actual == 1 and prediction_class == 0:\n",
    "            fn = fn + 1\n",
    "        elif actual == 0 and prediction_class == 1: \n",
    "            fp = fp + 1\n",
    "        elif actual == 0 and prediction_class == 0:\n",
    "            tn = tn + 1\n",
    "\n",
    "\n",
    "    tpr = tp / (tp + fn)\n",
    "    fpr = fp / (tn + fp)\n",
    "\n",
    "    roc_point.append([tpr, fpr])\n",
    "    \n",
    "pivot = pd.DataFrame(roc_point, columns = [\"x\", \"y\"])\n",
    "pivot[\"threshold\"] = thresholds"
   ]
  },
  {
   "cell_type": "code",
   "execution_count": 10,
   "metadata": {},
   "outputs": [
    {
     "data": {
      "text/plain": [
       "Text(0, 0.5, 'True Positive Rate')"
      ]
     },
     "execution_count": 10,
     "metadata": {},
     "output_type": "execute_result"
    },
    {
     "data": {
      "image/png": "[encoded data removed]",
      "text/plain": [
       "<Figure size 504x504 with 1 Axes>"
      ]
     },
     "metadata": {
      "needs_background": "light"
     },
     "output_type": "display_data"
    }
   ],
   "source": [
    "plt.figure(figsize=(7,7))\n",
    "plt.scatter(pivot.y, pivot.x,s=50,c='green')\n",
    "plt.plot([0, 1])\n",
    "plt.yticks(  fontsize=20)\n",
    "plt.xticks(  fontsize=20)\n",
    "plt.xlabel('False Positive Rate',size=20)\n",
    "plt.ylabel('True Positive Rate',size=20)\n",
    "#plt.savefig(\"Plots/ROC_Cancer_FIRST_endday.eps\",format='eps',bbox_inches='tight', dpi=1000)\n"
   ]
  },
  {
   "cell_type": "code",
   "execution_count": 11,
   "metadata": {},
   "outputs": [
    {
     "data": {
      "text/plain": [
       "0.5299"
      ]
     },
     "execution_count": 11,
     "metadata": {},
     "output_type": "execute_result"
    }
   ],
   "source": [
    "from numpy import trapz\n",
    "auc = round(abs(np.trapz(pivot.x, pivot.y)), 4)\n",
    "auc"
   ]
  },
  {
   "cell_type": "code",
   "execution_count": null,
   "metadata": {},
   "outputs": [],
   "source": []
  }
 ],
 "metadata": {
  "kernelspec": {
   "display_name": "Python 3",
   "language": "python",
   "name": "python3"
  },
  "language_info": {
   "codemirror_mode": {
    "name": "ipython",
    "version": 3
   },
   "file_extension": ".py",
   "mimetype": "text/x-python",
   "name": "python",
   "nbconvert_exporter": "python",
   "pygments_lexer": "ipython3",
   "version": "3.7.1"
  }
 },
 "nbformat": 4,
 "nbformat_minor": 4
}
